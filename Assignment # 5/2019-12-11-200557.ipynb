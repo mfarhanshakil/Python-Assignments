{
 "cells": [
  {
   "cell_type": "code",
   "execution_count": 1,
   "metadata": {
    "cocalc": {
     "outputs": {
      "1": {
       "name": "input",
       "opts": {
        "password": false,
        "prompt": "Please Enter Positive Number Greater or Equal to '1' for Factorial Calculation ===>>>   "
       },
       "output_type": "stream",
       "value": "-9"
      },
      "3": {
       "name": "input",
       "opts": {
        "password": false,
        "prompt": "Please Enter Positive Number Greater or Equal to '1' for Factorial Calculation ===>>>   "
       },
       "output_type": "stream",
       "value": "f"
      },
      "5": {
       "name": "input",
       "opts": {
        "password": false,
        "prompt": "Please Enter Positive Number Greater or Equal to '1' for Factorial Calculation ===>>>   "
       },
       "output_type": "stream",
       "value": "5"
      },
      "7": {
       "name": "input",
       "opts": {
        "password": false,
        "prompt": "Enter 'C' or 'c' to Calculate Factorial of Desired Number Again or Any Other Key to Exit ===>>>   "
       },
       "output_type": "stream",
       "value": "E"
      }
     }
    },
    "collapsed": false
   },
   "outputs": [
    {
     "name": "stdout",
     "output_type": "stream",
     "text": [
      " This Program Calculates Factorial of a Number Greater or Equal to '1'\n",
      " Below are the Tasks Performed by this Program:-\n",
      "\t 1) Input is Read from User\n",
      "\t 2) A Function Checks for Positive Integer Input\n",
      "\t 3) Program Prompts User to Input Again incase of Invalid Input\n",
      "\t 4) Program Calculates Factorial and Display on Console\n",
      "\t 5) Program Runs Repeatedly at Discretion of User\n"
     ]
    },
    {
     "name": "stdout",
     "output_type": "stream",
     "text": "Please Enter Positive Number Greater or Equal to '1' for Factorial Calculation ===>>>    -9"
    },
    {
     "name": "stdout",
     "output_type": "stream",
     "text": [
      "Your Input is Invalid. Please Enter Valid Number Greater or Equal to '1'\n"
     ]
    },
    {
     "name": "stdout",
     "output_type": "stream",
     "text": "Please Enter Positive Number Greater or Equal to '1' for Factorial Calculation ===>>>    f"
    },
    {
     "name": "stdout",
     "output_type": "stream",
     "text": [
      "Your Input is Invalid. Please Enter Valid Number Greater or Equal to '1'\n"
     ]
    },
    {
     "name": "stdout",
     "output_type": "stream",
     "text": "Please Enter Positive Number Greater or Equal to '1' for Factorial Calculation ===>>>    5"
    },
    {
     "name": "stdout",
     "output_type": "stream",
     "text": [
      "Factorial of 5 = 120\n"
     ]
    },
    {
     "name": "stdout",
     "output_type": "stream",
     "text": "Enter 'C' or 'c' to Calculate Factorial of Desired Number Again or Any Other Key to Exit ===>>>    E"
    }
   ],
   "source": [
    "#Author: Farhan Shakil\n",
    "#Course: Python Programming Language \n",
    "#Roll # PY01052\n",
    "#Email: mfarhanshakil@gmail.com\n",
    "#Assignment # 5\n",
    "#Question # 1\n",
    "\n",
    "def check_input(factnum):\n",
    "    try:\n",
    "        int(factnum)\n",
    "        return True\n",
    "    except ValueError:\n",
    "        return False\n",
    "\n",
    "def check_positive(numfact):\n",
    "    if int(numfact) >= 1:\n",
    "        return True\n",
    "    else:\n",
    "        return False\n",
    "\n",
    "def factorial_calc(num_4_fact):\n",
    "    fact_no = 1\n",
    "\n",
    "    for value in range(1 , int(num_4_fact) + 1):\n",
    "        fact_no = fact_no * value\n",
    "\n",
    "    return fact_no\n",
    "\n",
    "\n",
    "print(\" This Program Calculates Factorial of a Number Greater or Equal to \\'1\\'\")\n",
    "print(\" Below are the Tasks Performed by this Program:-\")\n",
    "print(\"\\t 1) Input is Read from User\")\n",
    "print(\"\\t 2) A Function Checks for Positive Integer Input\")\n",
    "print(\"\\t 3) Program Prompts User to Input Again incase of Invalid Input\")\n",
    "print(\"\\t 4) Program Calculates Factorial and Display on Console\")\n",
    "print(\"\\t 5) Program Runs Repeatedly at Discretion of User\")\n",
    "\n",
    "while True:\n",
    "    while True:\n",
    "        fact_num = input(\"Please Enter Positive Number Greater or Equal to \\'1\\' for Factorial Calculation ===>>>   \")\n",
    "\n",
    "        if check_input(fact_num) == True and check_positive(fact_num) == True:\n",
    "            break\n",
    "        else:\n",
    "            print(\"Your Input is Invalid. Please Enter Valid Number Greater or Equal to \\'1\\'\")\n",
    "\n",
    "    print(\"Factorial of\" , fact_num , \"=\" , factorial_calc(fact_num))\n",
    "\n",
    "    cont_char = input(\"Enter \\'C\\' or \\'c\\' to Calculate Factorial of Desired Number Again or Any Other Key to Exit ===>>>   \")\n",
    "\n",
    "    if cont_char != 'C' and cont_char != 'c':\n",
    "        break"
   ]
  },
  {
   "cell_type": "code",
   "execution_count": 3,
   "metadata": {
    "cocalc": {
     "outputs": {
      "1": {
       "name": "input",
       "opts": {
        "password": false,
        "prompt": "Please Enter String to Check for Upper & Lower Case Letters ===>>>   "
       },
       "output_type": "stream",
       "value": "FARhan SHAkil"
      },
      "3": {
       "name": "input",
       "opts": {
        "password": false,
        "prompt": "Enter 'C' or 'c' to Check Upper & Lower Case Letter Again or Any Other Key to Exit ===>>>   "
       },
       "output_type": "stream",
       "value": "c"
      },
      "4": {
       "name": "input",
       "opts": {
        "password": false,
        "prompt": "Please Enter String to Check for Upper & Lower Case Letters ===>>>   "
       },
       "output_type": "stream",
       "value": "Python PROGRamming"
      },
      "6": {
       "name": "input",
       "opts": {
        "password": false,
        "prompt": "Enter 'C' or 'c' to Check Upper & Lower Case Letter Again or Any Other Key to Exit ===>>>   "
       },
       "output_type": "stream",
       "value": "E"
      }
     }
    },
    "collapsed": false
   },
   "outputs": [
    {
     "name": "stdout",
     "output_type": "stream",
     "text": [
      " This Program Checks Number of Upper Case & Lower Case Letters in a String\n",
      " Below are the Tasks Performed by this Program:-\n",
      "\t 1) String Input is Read from User\n",
      "\t 2) A Function Checks Upper Case and Lower Case Letters\n",
      "\t 3) Program Displays Number of Uppper Case and Lower Case Letter on Console\n",
      "\t 5) Program Runs Repeatedly at Discretion of User\n"
     ]
    },
    {
     "name": "stdout",
     "output_type": "stream",
     "text": "Please Enter String to Check for Upper & Lower Case Letters ===>>>    FARhan SHAkil"
    },
    {
     "name": "stdout",
     "output_type": "stream",
     "text": [
      "Input by User ===>>> FARhan SHAkil\n",
      "\t Upper Case Letter => FARSHA \t No. of Upper Case Letter => 6\n",
      "\t Lower Case Letter => hankil \t No. of Lower Case Letter => 6\n"
     ]
    },
    {
     "name": "stdout",
     "output_type": "stream",
     "text": "Enter 'C' or 'c' to Check Upper & Lower Case Letter Again or Any Other Key to Exit ===>>>    c"
    },
    {
     "name": "stdout",
     "output_type": "stream",
     "text": "Please Enter String to Check for Upper & Lower Case Letters ===>>>    Python PROGRamming"
    },
    {
     "name": "stdout",
     "output_type": "stream",
     "text": [
      "Input by User ===>>> Python PROGRamming\n",
      "\t Upper Case Letter => PPROGR \t No. of Upper Case Letter => 6\n",
      "\t Lower Case Letter => ythonamming \t No. of Lower Case Letter => 11\n"
     ]
    },
    {
     "name": "stdout",
     "output_type": "stream",
     "text": "Enter 'C' or 'c' to Check Upper & Lower Case Letter Again or Any Other Key to Exit ===>>>    E"
    }
   ],
   "source": [
    "#Author: Farhan Shakil\n",
    "#Course: Python Programming Language \n",
    "#Roll # PY01052\n",
    "#Email: mfarhanshakil@gmail.com\n",
    "#Assignment # 5\n",
    "#Question # 2\n",
    "\n",
    "def check_upper_case(ip_string):\n",
    "    up_str = \"\"\n",
    "    up_no = 0\n",
    "\n",
    "    for str_char in ip_string:\n",
    "        if str_char.isupper():\n",
    "            up_str += str_char\n",
    "            up_no += 1\n",
    "\n",
    "    return (up_no , up_str)\n",
    "\n",
    "def check_lower_case(string_ip):\n",
    "    lwr_str = \"\"\n",
    "    lwr_no = 0\n",
    "\n",
    "    for str_char in string_ip:\n",
    "        if str_char.islower():\n",
    "            lwr_str += str_char\n",
    "            lwr_no += 1\n",
    "\n",
    "    return (lwr_no , lwr_str)\n",
    "\n",
    "\n",
    "print(\" This Program Checks Number of Upper Case & Lower Case Letters in a String\")\n",
    "print(\" Below are the Tasks Performed by this Program:-\")\n",
    "print(\"\\t 1) String Input is Read from User\")\n",
    "print(\"\\t 2) A Function Checks Upper Case and Lower Case Letters\")\n",
    "print(\"\\t 3) Program Displays Number of Uppper Case and Lower Case Letter on Console\")\n",
    "print(\"\\t 5) Program Runs Repeatedly at Discretion of User\")\n",
    "\n",
    "while True:\n",
    "    input_string = input(\"Please Enter String to Check for Upper & Lower Case Letters ===>>>   \")\n",
    "    print(\"Input by User ===>>> \" + input_string)\n",
    "\n",
    "    (upp_case_no , upp_case_let) = check_upper_case(input_string)\n",
    "    (low_case_no , low_case_let) = check_lower_case(input_string)\n",
    "\n",
    "    print(\"\\t Upper Case Letter =>\" , upp_case_let , \"\\t No. of Upper Case Letter =>\" , upp_case_no)\n",
    "    print(\"\\t Lower Case Letter =>\" , low_case_let , \"\\t No. of Lower Case Letter =>\" , low_case_no)\n",
    "\n",
    "    cont_char = input(\"Enter \\'C\\' or \\'c\\' to Check Upper & Lower Case Letter Again or Any Other Key to Exit ===>>>   \")\n",
    "\n",
    "    if cont_char != 'C' and cont_char != 'c':\n",
    "        break"
   ]
  },
  {
   "cell_type": "code",
   "execution_count": 4,
   "metadata": {
    "cocalc": {
     "outputs": {
      "1": {
       "name": "input",
       "opts": {
        "password": false,
        "prompt": "Please Enter Value to Add in the List ===>>>   "
       },
       "output_type": "stream",
       "value": "12"
      },
      "10": {
       "name": "input",
       "opts": {
        "password": false,
        "prompt": "Enter 'E' or 'e' to Exit or Any Other Key to Continue ===>>>   "
       },
       "output_type": "stream",
       "value": "c"
      },
      "11": {
       "name": "input",
       "opts": {
        "password": false,
        "prompt": "Please Enter Value to Add in the List ===>>>   "
       },
       "output_type": "stream",
       "value": "90"
      },
      "12": {
       "name": "input",
       "opts": {
        "password": false,
        "prompt": "Enter 'E' or 'e' to Exit or Any Other Key to Continue ===>>>   "
       },
       "output_type": "stream",
       "value": "E"
      },
      "14": {
       "name": "input",
       "opts": {
        "password": false,
        "prompt": "Enter 'C' or 'c' to Check Another List or Any Other Key to Exit ===>>>   "
       },
       "output_type": "stream",
       "value": "E"
      },
      "2": {
       "name": "input",
       "opts": {
        "password": false,
        "prompt": "Enter 'E' or 'e' to Exit or Any Other Key to Continue ===>>>   "
       },
       "output_type": "stream",
       "value": "c"
      },
      "3": {
       "name": "input",
       "opts": {
        "password": false,
        "prompt": "Please Enter Value to Add in the List ===>>>   "
       },
       "output_type": "stream",
       "value": "Farhan"
      },
      "4": {
       "name": "input",
       "opts": {
        "password": false,
        "prompt": "Enter 'E' or 'e' to Exit or Any Other Key to Continue ===>>>   "
       },
       "output_type": "stream",
       "value": "c"
      },
      "5": {
       "name": "input",
       "opts": {
        "password": false,
        "prompt": "Please Enter Value to Add in the List ===>>>   "
       },
       "output_type": "stream",
       "value": "19"
      },
      "6": {
       "name": "input",
       "opts": {
        "password": false,
        "prompt": "Enter 'E' or 'e' to Exit or Any Other Key to Continue ===>>>   "
       },
       "output_type": "stream",
       "value": "c"
      },
      "7": {
       "name": "input",
       "opts": {
        "password": false,
        "prompt": "Please Enter Value to Add in the List ===>>>   "
       },
       "output_type": "stream",
       "value": "22"
      },
      "8": {
       "name": "input",
       "opts": {
        "password": false,
        "prompt": "Enter 'E' or 'e' to Exit or Any Other Key to Continue ===>>>   "
       },
       "output_type": "stream",
       "value": "c"
      },
      "9": {
       "name": "input",
       "opts": {
        "password": false,
        "prompt": "Please Enter Value to Add in the List ===>>>   "
       },
       "output_type": "stream",
       "value": "Python"
      }
     }
    },
    "collapsed": false
   },
   "outputs": [
    {
     "name": "stdout",
     "output_type": "stream",
     "text": [
      " This Program Prints Even Numbers in a List\n",
      " Below are the Tasks Performed by this Program:-\n",
      "\t 1) List Values are Read by User\n",
      "\t 2) A Function Checks & Return All Even Numbers Present\n",
      "\t 3) Program Displays Even Numbers in the List\n",
      "\t 5) Program Runs Repeatedly at Discretion of User\n"
     ]
    },
    {
     "name": "stdout",
     "output_type": "stream",
     "text": "Please Enter Value to Add in the List ===>>>    12"
    },
    {
     "name": "stdout",
     "output_type": "stream",
     "text": "Enter 'E' or 'e' to Exit or Any Other Key to Continue ===>>>    c"
    },
    {
     "name": "stdout",
     "output_type": "stream",
     "text": "Please Enter Value to Add in the List ===>>>    Farhan"
    },
    {
     "name": "stdout",
     "output_type": "stream",
     "text": "Enter 'E' or 'e' to Exit or Any Other Key to Continue ===>>>    c"
    },
    {
     "name": "stdout",
     "output_type": "stream",
     "text": "Please Enter Value to Add in the List ===>>>    19"
    },
    {
     "name": "stdout",
     "output_type": "stream",
     "text": "Enter 'E' or 'e' to Exit or Any Other Key to Continue ===>>>    c"
    },
    {
     "name": "stdout",
     "output_type": "stream",
     "text": "Please Enter Value to Add in the List ===>>>    22"
    },
    {
     "name": "stdout",
     "output_type": "stream",
     "text": "Enter 'E' or 'e' to Exit or Any Other Key to Continue ===>>>    c"
    },
    {
     "name": "stdout",
     "output_type": "stream",
     "text": "Please Enter Value to Add in the List ===>>>    Python"
    },
    {
     "name": "stdout",
     "output_type": "stream",
     "text": "Enter 'E' or 'e' to Exit or Any Other Key to Continue ===>>>    c"
    },
    {
     "name": "stdout",
     "output_type": "stream",
     "text": "Please Enter Value to Add in the List ===>>>    90"
    },
    {
     "name": "stdout",
     "output_type": "stream",
     "text": "Enter 'E' or 'e' to Exit or Any Other Key to Continue ===>>>    E"
    },
    {
     "name": "stdout",
     "output_type": "stream",
     "text": [
      "List of Even Numbers = ['12', '22', '90'] \n",
      "No of Even Numbers =  3\n"
     ]
    },
    {
     "name": "stdout",
     "output_type": "stream",
     "text": "Enter 'C' or 'c' to Check Another List or Any Other Key to Exit ===>>>    E"
    }
   ],
   "source": [
    "#Author: Farhan Shakil\n",
    "#Course: Python Programming Language\n",
    "#Roll # PY01052\n",
    "#Email: mfarhanshakil@gmail.com\n",
    "#Assignment # 5\n",
    "#Question # 3\n",
    "\n",
    "def check_even_numbers(list_to_check):\n",
    "    even_no_list = []\n",
    "    no_of_even = 0\n",
    "\n",
    "    for value in range(0 , len(list_to_check)):\n",
    "        try:\n",
    "            int(list_to_check[value])\n",
    "            if int(list_to_check[value]) % 2 == 0:\n",
    "                even_no_list.append(list_to_check[value])\n",
    "                no_of_even += 1\n",
    "\n",
    "        except ValueError:\n",
    "            no_of_even += 0\n",
    "\n",
    "    print(\"List of Even Numbers =\" , even_no_list , \"\\nNo of Even Numbers = \" , no_of_even)\n",
    "\n",
    "    return\n",
    "\n",
    "\n",
    "print(\" This Program Prints Even Numbers in a List\")\n",
    "print(\" Below are the Tasks Performed by this Program:-\")\n",
    "print(\"\\t 1) List Values are Read by User\")\n",
    "print(\"\\t 2) A Function Checks & Return All Even Numbers Present\")\n",
    "print(\"\\t 3) Program Displays Even Numbers in the List\")\n",
    "print(\"\\t 5) Program Runs Repeatedly at Discretion of User\")\n",
    "\n",
    "while True:\n",
    "    my_list = []\n",
    "\n",
    "    while True:\n",
    "        my_list.append(input(\"Please Enter Value to Add in the List ===>>>   \"))\n",
    "        cont_read = input(\"Enter \\'E\\' or \\'e\\' to Exit or Any Other Key to Continue ===>>>   \")\n",
    "\n",
    "        if cont_read == 'E' or cont_read == 'e':\n",
    "            break\n",
    "\n",
    "    check_even_numbers(my_list)\n",
    "\n",
    "    cont_char = input(\"Enter \\'C\\' or \\'c\\' to Check Another List or Any Other Key to Exit ===>>>   \")\n",
    "\n",
    "    if cont_char != 'C' and cont_char != 'c':\n",
    "        break"
   ]
  },
  {
   "cell_type": "code",
   "execution_count": 1,
   "metadata": {
    "cocalc": {
     "outputs": {
      "1": {
       "name": "input",
       "opts": {
        "password": false,
        "prompt": "Please Enter Desired String ===>>>   "
       },
       "output_type": "stream",
       "value": "Madam"
      },
      "3": {
       "name": "input",
       "opts": {
        "password": false,
        "prompt": "Enter 'C' or 'c' to Check Another String or Any Other Key to Exit ===>>>   "
       },
       "output_type": "stream",
       "value": "C"
      },
      "4": {
       "name": "input",
       "opts": {
        "password": false,
        "prompt": "Please Enter Desired String ===>>>   "
       },
       "output_type": "stream",
       "value": "ROTator"
      },
      "6": {
       "name": "input",
       "opts": {
        "password": false,
        "prompt": "Enter 'C' or 'c' to Check Another String or Any Other Key to Exit ===>>>   "
       },
       "output_type": "stream",
       "value": "E"
      }
     }
    },
    "collapsed": false
   },
   "outputs": [
    {
     "name": "stdout",
     "output_type": "stream",
     "text": [
      " This Program Checks if a String is Palindrome\n",
      " Below are the Tasks Performed by this Program:-\n",
      "\t 1) String is Read by User\n",
      "\t 2) A Function Checks if String is Palindrome\n",
      "\t 5) Program Runs Repeatedly at Discretion of User\n"
     ]
    },
    {
     "name": "stdout",
     "output_type": "stream",
     "text": "Please Enter Desired String ===>>>    Madam"
    },
    {
     "name": "stdout",
     "output_type": "stream",
     "text": [
      "Entered String = Madam\n",
      "This String is Palindrome\n"
     ]
    },
    {
     "name": "stdout",
     "output_type": "stream",
     "text": "Enter 'C' or 'c' to Check Another String or Any Other Key to Exit ===>>>    C"
    },
    {
     "name": "stdout",
     "output_type": "stream",
     "text": "Please Enter Desired String ===>>>    ROTator"
    },
    {
     "name": "stdout",
     "output_type": "stream",
     "text": [
      "Entered String = ROTator\n",
      "This String is Palindrome\n"
     ]
    },
    {
     "name": "stdout",
     "output_type": "stream",
     "text": "Enter 'C' or 'c' to Check Another String or Any Other Key to Exit ===>>>    E"
    }
   ],
   "source": [
    "#Author: Farhan Shakil\n",
    "#Course: Python Programming Language\n",
    "#Roll # PY01052\n",
    "#Email: mfarhanshakil@gmail.com\n",
    "#Assignment # 5\n",
    "#Question # 4\n",
    "\n",
    "def check_palindrome(str_palindrome):\n",
    "    if str_palindrome.lower() == str_palindrome[::-1].lower():\n",
    "        print(\"This String is Palindrome\")\n",
    "    else:\n",
    "        print(\"This String is not Palindrome\")\n",
    "\n",
    "    return\n",
    "\n",
    "\n",
    "print(\" This Program Checks if a String is Palindrome\")\n",
    "print(\" Below are the Tasks Performed by this Program:-\")\n",
    "print(\"\\t 1) String is Read by User\")\n",
    "print(\"\\t 2) A Function Checks if String is Palindrome\")\n",
    "print(\"\\t 5) Program Runs Repeatedly at Discretion of User\")\n",
    "\n",
    "while True:\n",
    "    palindrome_string = input(\"Please Enter Desired String ===>>>   \")\n",
    "\n",
    "    print(\"Entered String =\" , palindrome_string)\n",
    "\n",
    "    check_palindrome(palindrome_string)\n",
    "\n",
    "    cont_char = input(\"Enter \\'C\\' or \\'c\\' to Check Another String or Any Other Key to Exit ===>>>   \")\n",
    "\n",
    "    if cont_char != 'C' and cont_char != 'c':\n",
    "        break"
   ]
  },
  {
   "cell_type": "code",
   "execution_count": 26,
   "metadata": {
    "cocalc": {
     "outputs": {
      "1": {
       "name": "input",
       "opts": {
        "password": false,
        "prompt": "Please Enter Positive Number Greater or Equal to '2' for Prime Number Check ===>>>   "
       },
       "output_type": "stream",
       "value": "1"
      },
      "11": {
       "name": "input",
       "opts": {
        "password": false,
        "prompt": "Enter 'C' or 'c' to Check Prime Number Again or Any Other Key to Exit ===>>>   "
       },
       "output_type": "stream",
       "value": "c"
      },
      "12": {
       "name": "input",
       "opts": {
        "password": false,
        "prompt": "Please Enter Positive Number Greater or Equal to '2' for Prime Number Check ===>>>   "
       },
       "output_type": "stream",
       "value": "131071"
      },
      "14": {
       "name": "input",
       "opts": {
        "password": false,
        "prompt": "Enter 'C' or 'c' to Check Prime Number Again or Any Other Key to Exit ===>>>   "
       },
       "output_type": "stream",
       "value": "c"
      },
      "15": {
       "name": "input",
       "opts": {
        "password": false,
        "prompt": "Please Enter Positive Number Greater or Equal to '2' for Prime Number Check ===>>>   "
       },
       "output_type": "stream",
       "value": "6700417"
      },
      "17": {
       "name": "input",
       "opts": {
        "password": false,
        "prompt": "Enter 'C' or 'c' to Check Prime Number Again or Any Other Key to Exit ===>>>   "
       },
       "output_type": "stream",
       "value": "E"
      },
      "3": {
       "name": "input",
       "opts": {
        "password": false,
        "prompt": "Please Enter Positive Number Greater or Equal to '2' for Prime Number Check ===>>>   "
       },
       "output_type": "stream",
       "value": "2"
      },
      "5": {
       "name": "input",
       "opts": {
        "password": false,
        "prompt": "Enter 'C' or 'c' to Check Prime Number Again or Any Other Key to Exit ===>>>   "
       },
       "output_type": "stream",
       "value": "c"
      },
      "6": {
       "name": "input",
       "opts": {
        "password": false,
        "prompt": "Please Enter Positive Number Greater or Equal to '2' for Prime Number Check ===>>>   "
       },
       "output_type": "stream",
       "value": "100"
      },
      "8": {
       "name": "input",
       "opts": {
        "password": false,
        "prompt": "Enter 'C' or 'c' to Check Prime Number Again or Any Other Key to Exit ===>>>   "
       },
       "output_type": "stream",
       "value": "c"
      },
      "9": {
       "name": "input",
       "opts": {
        "password": false,
        "prompt": "Please Enter Positive Number Greater or Equal to '2' for Prime Number Check ===>>>   "
       },
       "output_type": "stream",
       "value": "8191"
      }
     }
    },
    "collapsed": false
   },
   "outputs": [
    {
     "name": "stdout",
     "output_type": "stream",
     "text": [
      " This Program Checks if a Number is Prime or Not\n",
      " Below are the Tasks Performed by this Program:-\n",
      "\t 1) Number is Read by User\n",
      "\t 2) A Function Checks if Number is Prime or Not\n",
      "\t 5) Program Runs Repeatedly at Discretion of User\n"
     ]
    },
    {
     "name": "stdout",
     "output_type": "stream",
     "text": "Please Enter Positive Number Greater or Equal to '2' for Prime Number Check ===>>>    1"
    },
    {
     "name": "stdout",
     "output_type": "stream",
     "text": [
      "Your Input is Invalid. Please Enter Valid Number Greater or Equal to '2'\n"
     ]
    },
    {
     "name": "stdout",
     "output_type": "stream",
     "text": "Please Enter Positive Number Greater or Equal to '2' for Prime Number Check ===>>>    2"
    },
    {
     "name": "stdout",
     "output_type": "stream",
     "text": [
      "2 is Prime Number\n"
     ]
    },
    {
     "name": "stdout",
     "output_type": "stream",
     "text": "Enter 'C' or 'c' to Check Prime Number Again or Any Other Key to Exit ===>>>    c"
    },
    {
     "name": "stdout",
     "output_type": "stream",
     "text": "Please Enter Positive Number Greater or Equal to '2' for Prime Number Check ===>>>    100"
    },
    {
     "name": "stdout",
     "output_type": "stream",
     "text": [
      "100 is Not Prime Number\n"
     ]
    },
    {
     "name": "stdout",
     "output_type": "stream",
     "text": "Enter 'C' or 'c' to Check Prime Number Again or Any Other Key to Exit ===>>>    c"
    },
    {
     "name": "stdout",
     "output_type": "stream",
     "text": "Please Enter Positive Number Greater or Equal to '2' for Prime Number Check ===>>>    8191"
    },
    {
     "name": "stdout",
     "output_type": "stream",
     "text": [
      "8191 is Prime Number\n"
     ]
    },
    {
     "name": "stdout",
     "output_type": "stream",
     "text": "Enter 'C' or 'c' to Check Prime Number Again or Any Other Key to Exit ===>>>    c"
    },
    {
     "name": "stdout",
     "output_type": "stream",
     "text": "Please Enter Positive Number Greater or Equal to '2' for Prime Number Check ===>>>    131071"
    },
    {
     "name": "stdout",
     "output_type": "stream",
     "text": [
      "131071 is Prime Number\n"
     ]
    },
    {
     "name": "stdout",
     "output_type": "stream",
     "text": "Enter 'C' or 'c' to Check Prime Number Again or Any Other Key to Exit ===>>>    c"
    },
    {
     "name": "stdout",
     "output_type": "stream",
     "text": "Please Enter Positive Number Greater or Equal to '2' for Prime Number Check ===>>>    6700417"
    },
    {
     "name": "stdout",
     "output_type": "stream",
     "text": [
      "6700417 is Prime Number\n"
     ]
    },
    {
     "name": "stdout",
     "output_type": "stream",
     "text": "Enter 'C' or 'c' to Check Prime Number Again or Any Other Key to Exit ===>>>    E"
    }
   ],
   "source": [
    "#Author: Farhan Shakil\n",
    "#Course: Python Programming Language \n",
    "#Roll # PY01052\n",
    "#Email: mfarhanshakil@gmail.com\n",
    "#Assignment # 5\n",
    "#Question # 5\n",
    "\n",
    "def check_input(num_ip):\n",
    "    try:\n",
    "        int(num_ip)\n",
    "        return True\n",
    "    except ValueError:\n",
    "        return False\n",
    "\n",
    "def check_positive(ip_num):\n",
    "    if int(ip_num) >= 2:\n",
    "        return True\n",
    "    else:\n",
    "        return False\n",
    "\n",
    "def prime_num_check(num_4_prime):\n",
    "    check_flag = 0\n",
    "\n",
    "    if num_4_prime == 2 or num_4_prime == 3 or num_4_prime == 5:\n",
    "        check_flag = 1\n",
    "    elif num_4_prime == 4:\n",
    "        check_flag = 0\n",
    "    else:\n",
    "        for value in range(2 , num_4_prime//2):\n",
    "            if num_4_prime % value == 0:\n",
    "                check_falg = 0\n",
    "                break\n",
    "        else:\n",
    "            check_flag = 1\n",
    "\n",
    "    if check_flag == 0:\n",
    "        return False\n",
    "    else:\n",
    "        return True\n",
    "\n",
    "\n",
    "print(\" This Program Checks if a Number is Prime or Not\")\n",
    "print(\" Below are the Tasks Performed by this Program:-\")\n",
    "print(\"\\t 1) Number is Read by User\")\n",
    "print(\"\\t 2) A Function Checks if Number is Prime or Not\")\n",
    "print(\"\\t 5) Program Runs Repeatedly at Discretion of User\")\n",
    "\n",
    "while True:\n",
    "    while True:\n",
    "        prime_num = input(\"Please Enter Positive Number Greater or Equal to \\'2\\' for Prime Number Check ===>>>   \")\n",
    "\n",
    "        if check_input(prime_num) == True and check_positive(prime_num) == True:\n",
    "            break\n",
    "        else:\n",
    "            print(\"Your Input is Invalid. Please Enter Valid Number Greater or Equal to \\'2\\'\")\n",
    "\n",
    "    if prime_num_check(int(prime_num)) == True:\n",
    "        print(prime_num , \"is Prime Number\")\n",
    "    else:\n",
    "        print(prime_num , \"is Not Prime Number\")\n",
    "\n",
    "    cont_char = input(\"Enter \\'C\\' or \\'c\\' to Check Prime Number Again or Any Other Key to Exit ===>>>   \")\n",
    "\n",
    "    if cont_char != 'C' and cont_char != 'c':\n",
    "        break"
   ]
  },
  {
   "cell_type": "code",
   "execution_count": 29,
   "metadata": {
    "cocalc": {
     "outputs": {
      "1": {
       "name": "input",
       "opts": {
        "password": false,
        "prompt": "Please Enter Shopping Item to Add in the List ===>>>   "
       },
       "output_type": "stream",
       "value": "Carrot"
      },
      "10": {
       "name": "input",
       "opts": {
        "password": false,
        "prompt": "Enter 'E' or 'e' to Exit or Any Other Key to Continue ===>>>   "
       },
       "output_type": "stream",
       "value": "c"
      },
      "11": {
       "name": "input",
       "opts": {
        "password": false,
        "prompt": "Please Enter Shopping Item to Add in the List ===>>>   "
       },
       "output_type": "stream",
       "value": "Eggs"
      },
      "12": {
       "name": "input",
       "opts": {
        "password": false,
        "prompt": "Enter 'E' or 'e' to Exit or Any Other Key to Continue ===>>>   "
       },
       "output_type": "stream",
       "value": "e"
      },
      "14": {
       "name": "input",
       "opts": {
        "password": false,
        "prompt": "Enter 'C' or 'c' to Check Another List or Any Other Key to Exit ===>>>   "
       },
       "output_type": "stream",
       "value": "e"
      },
      "2": {
       "name": "input",
       "opts": {
        "password": false,
        "prompt": "Enter 'E' or 'e' to Exit or Any Other Key to Continue ===>>>   "
       },
       "output_type": "stream",
       "value": "c"
      },
      "3": {
       "name": "input",
       "opts": {
        "password": false,
        "prompt": "Please Enter Shopping Item to Add in the List ===>>>   "
       },
       "output_type": "stream",
       "value": "Onion"
      },
      "4": {
       "name": "input",
       "opts": {
        "password": false,
        "prompt": "Enter 'E' or 'e' to Exit or Any Other Key to Continue ===>>>   "
       },
       "output_type": "stream",
       "value": "c"
      },
      "5": {
       "name": "input",
       "opts": {
        "password": false,
        "prompt": "Please Enter Shopping Item to Add in the List ===>>>   "
       },
       "output_type": "stream",
       "value": "Tomato"
      },
      "6": {
       "name": "input",
       "opts": {
        "password": false,
        "prompt": "Enter 'E' or 'e' to Exit or Any Other Key to Continue ===>>>   "
       },
       "output_type": "stream",
       "value": "c"
      },
      "7": {
       "name": "input",
       "opts": {
        "password": false,
        "prompt": "Please Enter Shopping Item to Add in the List ===>>>   "
       },
       "output_type": "stream",
       "value": "Bread"
      },
      "8": {
       "name": "input",
       "opts": {
        "password": false,
        "prompt": "Enter 'E' or 'e' to Exit or Any Other Key to Continue ===>>>   "
       },
       "output_type": "stream",
       "value": "c"
      },
      "9": {
       "name": "input",
       "opts": {
        "password": false,
        "prompt": "Please Enter Shopping Item to Add in the List ===>>>   "
       },
       "output_type": "stream",
       "value": "Ketchup"
      }
     }
    },
    "collapsed": false
   },
   "outputs": [
    {
     "name": "stdout",
     "output_type": "stream",
     "text": [
      " This Program Prints List of Shopping Items\n",
      " Below are the Tasks Performed by this Program:-\n",
      "\t 2) A Function Reads & Display Shopping Item Lists\n",
      "\t 5) Program Runs Repeatedly at Discretion of User\n"
     ]
    },
    {
     "name": "stdout",
     "output_type": "stream",
     "text": "Please Enter Shopping Item to Add in the List ===>>>    Carrot"
    },
    {
     "name": "stdout",
     "output_type": "stream",
     "text": "Enter 'E' or 'e' to Exit or Any Other Key to Continue ===>>>    c"
    },
    {
     "name": "stdout",
     "output_type": "stream",
     "text": "Please Enter Shopping Item to Add in the List ===>>>    Onion"
    },
    {
     "name": "stdout",
     "output_type": "stream",
     "text": "Enter 'E' or 'e' to Exit or Any Other Key to Continue ===>>>    c"
    },
    {
     "name": "stdout",
     "output_type": "stream",
     "text": "Please Enter Shopping Item to Add in the List ===>>>    Tomato"
    },
    {
     "name": "stdout",
     "output_type": "stream",
     "text": "Enter 'E' or 'e' to Exit or Any Other Key to Continue ===>>>    c"
    },
    {
     "name": "stdout",
     "output_type": "stream",
     "text": "Please Enter Shopping Item to Add in the List ===>>>    Bread"
    },
    {
     "name": "stdout",
     "output_type": "stream",
     "text": "Enter 'E' or 'e' to Exit or Any Other Key to Continue ===>>>    c"
    },
    {
     "name": "stdout",
     "output_type": "stream",
     "text": "Please Enter Shopping Item to Add in the List ===>>>    Ketchup"
    },
    {
     "name": "stdout",
     "output_type": "stream",
     "text": "Enter 'E' or 'e' to Exit or Any Other Key to Continue ===>>>    c"
    },
    {
     "name": "stdout",
     "output_type": "stream",
     "text": "Please Enter Shopping Item to Add in the List ===>>>    Eggs"
    },
    {
     "name": "stdout",
     "output_type": "stream",
     "text": "Enter 'E' or 'e' to Exit or Any Other Key to Continue ===>>>    e"
    },
    {
     "name": "stdout",
     "output_type": "stream",
     "text": [
      "Item #  1 = Carrot\n",
      "Item #  2 = Onion\n",
      "Item #  3 = Tomato\n",
      "Item #  4 = Bread\n",
      "Item #  5 = Ketchup\n",
      "Item #  6 = Eggs\n"
     ]
    },
    {
     "name": "stdout",
     "output_type": "stream",
     "text": "Enter 'C' or 'c' to Check Another List or Any Other Key to Exit ===>>>    e"
    }
   ],
   "source": [
    "#Author: Farhan Shakil\n",
    "#Course: Python Programming Language\n",
    "#Roll # PY01052\n",
    "#Email: mfarhanshakil@gmail.com\n",
    "#Assignment # 5\n",
    "#Question # 6\n",
    "\n",
    "def display_shopping_list(list_to_disp):\n",
    "    for value in range(0 , len(list_to_disp)):\n",
    "        print(\"Item #\" , (value + 1) , \"=\" , list_to_disp[value])\n",
    "    return\n",
    "\n",
    "\n",
    "print(\" This Program Prints List of Shopping Items\")\n",
    "print(\" Below are the Tasks Performed by this Program:-\")\n",
    "print(\"\\t 2) A Function Reads & Display Shopping Item Lists\")\n",
    "print(\"\\t 5) Program Runs Repeatedly at Discretion of User\")\n",
    "\n",
    "while True:\n",
    "    my_list = []\n",
    "\n",
    "    while True:\n",
    "        my_list.append(input(\"Please Enter Shopping Item to Add in the List ===>>>   \"))\n",
    "        cont_read = input(\"Enter \\'E\\' or \\'e\\' to Exit or Any Other Key to Continue ===>>>   \")\n",
    "\n",
    "        if cont_read == 'E' or cont_read == 'e':\n",
    "            break\n",
    "\n",
    "    display_shopping_list(my_list)\n",
    "\n",
    "    cont_char = input(\"Enter \\'C\\' or \\'c\\' to Check Another List or Any Other Key to Exit ===>>>   \")\n",
    "\n",
    "    if cont_char != 'C' and cont_char != 'c':\n",
    "        break"
   ]
  },
  {
   "cell_type": "code",
   "execution_count": 0,
   "metadata": {
    "collapsed": false
   },
   "outputs": [
   ],
   "source": [
   ]
  }
 ],
 "metadata": {
  "kernelspec": {
   "display_name": "Python 3 (system-wide)",
   "language": "python",
   "metadata": {
    "cocalc": {
     "description": "Python 3 programming language",
     "priority": 100,
     "url": "https://www.python.org/"
    }
   },
   "name": "python3"
  },
  "language_info": {
   "codemirror_mode": {
    "name": "ipython",
    "version": 3
   },
   "file_extension": ".py",
   "mimetype": "text/x-python",
   "name": "python",
   "nbconvert_exporter": "python",
   "pygments_lexer": "ipython3",
   "version": "3.6.9"
  }
 },
 "nbformat": 4,
 "nbformat_minor": 0
}