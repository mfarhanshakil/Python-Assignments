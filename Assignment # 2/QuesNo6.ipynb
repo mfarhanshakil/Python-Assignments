{
 "cells": [
  {
   "cell_type": "code",
   "execution_count": 44,
   "metadata": {},
   "outputs": [
    {
     "name": "stdout",
     "output_type": "stream",
     "text": [
      "[22, 111, 3, 1, 55, 2, 1, -6, -19, 67, 99]\n",
      "Extracted List with Numbers Less than 5 =  [3, 1, 2, 1, -6, -19, 3, 1, 2, 1, -6, -19]\n"
     ]
    }
   ],
   "source": [
    "#Author: Farhan Shakil\n",
    "#Course: Python Programming Language \n",
    "#Roll # PY01052\n",
    "#Email: mfarhanshakil@gmail.com\n",
    "#Assignment # 1\n",
    "#Question # 6\n",
    "\n",
    "List_to_Check = [22 , 111 , 3 , 1 , 55 , 2 , 1 , -6 , -19 , 67 , 99]\n",
    "\n",
    "print(List_to_Check)\n",
    "\n",
    "for loop_var in range(0 , len(List_to_Check)):\n",
    "    if(List_to_Check[loop_var] < 5):\n",
    "        list_mod.append(List_to_Check[loop_var])\n",
    "\n",
    "print(\"Extracted List with Numbers Less than 5 = \" , list_mod)"
   ]
  }
 ],
 "metadata": {
  "kernelspec": {
   "display_name": "Python 3",
   "language": "python",
   "name": "python3"
  },
  "language_info": {
   "codemirror_mode": {
    "name": "ipython",
    "version": 3
   },
   "file_extension": ".py",
   "mimetype": "text/x-python",
   "name": "python",
   "nbconvert_exporter": "python",
   "pygments_lexer": "ipython3",
   "version": "3.6.4"
  }
 },
 "nbformat": 4,
 "nbformat_minor": 2
}
