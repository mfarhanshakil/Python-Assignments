{
 "cells": [
  {
   "cell_type": "code",
   "execution_count": 51,
   "metadata": {},
   "outputs": [
    {
     "name": "stdout",
     "output_type": "stream",
     "text": [
      "\t\t\t MARK SHEET\n",
      "\t SUBJECT \t MARKS\n",
      "\t English \t 72\n",
      "\t Urdu \t 78\n",
      "\t Math \t 99\n",
      "\t Physics \t 80\n",
      "\t Chemistry \t 66\n",
      "Total Marks = 500 , Marks Obtained =  395\n",
      "\tGrade = B+\n"
     ]
    }
   ],
   "source": [
    "#Author: Farhan Shakil\n",
    "#Course: Python Programming Language \n",
    "#Roll # PY01052\n",
    "#Email: mfarhanshakil@gmail.com\n",
    "#Assignment # 2\n",
    "#Question # 1\n",
    "\n",
    "subject_data = ['subject1' , 'subject2' , 'subject3' , 'subject4' , 'subject5' , 0 , 0 , 0 , 0 , 0]\n",
    "\n",
    "for data_req in range(0 , 5):\n",
    "    subject_data[data_req]     = input(\"Enter Subject Name    =>   \")\n",
    "    subject_data[data_req + 5] = input(\"Enter Subject Marks   =>   \")\n",
    "\n",
    "marks_data = 0;\n",
    "\n",
    "for data_req in range(5 , 10):\n",
    "    marks_data += int(subject_data[data_req])\n",
    "\n",
    "grades = marks_data / 5\n",
    "\n",
    "print(\"\\t\\t\\t MARK SHEET\")\n",
    "print(\"\\t SUBJECT \\t MARKS\")\n",
    "\n",
    "for data_req in range(0 , 5):\n",
    "    print(\"\\t\" , subject_data[data_req] , \"\\t\" , subject_data[data_req + 5])\n",
    "  \n",
    "print(\"Total Marks = 500 , Marks Obtained = \" , marks_data)\n",
    "\n",
    "if(grades >= 91 and grades <= 100):\n",
    "    print(\"\\tGrade = A+\")\n",
    "    \n",
    "elif(grades >= 81 and grades <= 90):\n",
    "    print(\"\\tGrade = A\")\n",
    "    \n",
    "elif(grades >= 71 and grades<= 80):\n",
    "    print(\"\\tGrade = B+\")\n",
    "        \n",
    "elif(grades >= 61 and grades <= 70):\n",
    "    print(\"\\tGrade = B\")\n",
    "            \n",
    "elif(grades >= 51 and grades <= 60):\n",
    "    print(\"\\tGrade = C+\")\n",
    "                \n",
    "elif(grades >= 41 and grades <= 50):\n",
    "    print(\"\\tGrade = C\")\n",
    "                    \n",
    "else:\n",
    "    print(\"\\tGrade = F\")"
   ]
  }
 ],
 "metadata": {
  "kernelspec": {
   "display_name": "Python 3",
   "language": "python",
   "name": "python3"
  },
  "language_info": {
   "codemirror_mode": {
    "name": "ipython",
    "version": 3
   },
   "file_extension": ".py",
   "mimetype": "text/x-python",
   "name": "python",
   "nbconvert_exporter": "python",
   "pygments_lexer": "ipython3",
   "version": "3.6.4"
  }
 },
 "nbformat": 4,
 "nbformat_minor": 2
}
