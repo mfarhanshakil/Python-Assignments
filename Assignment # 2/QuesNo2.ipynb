{
 "cells": [
  {
   "cell_type": "code",
   "execution_count": 48,
   "metadata": {},
   "outputs": [
    {
     "name": "stdout",
     "output_type": "stream",
     "text": [
      " Your Entered Number 15 is ODD\n"
     ]
    }
   ],
   "source": [
    "#Author: Farhan Shakil\n",
    "#Course: Python Programming Language \n",
    "#Roll # PY01052\n",
    "#Email: mfarhanshakil@gmail.com\n",
    "#Assignment # 2\n",
    "#Question # 2\n",
    "\n",
    "number_to_check = input(\"Enter Any Number of Your Choice   =>   \")\n",
    "\n",
    "if int(number_to_check) % 2 == 0:\n",
    "    print(\" Your Entered Number\" , number_to_check , \"is EVEN\")\n",
    "else:\n",
    "    print(\" Your Entered Number\" , number_to_check , \"is ODD\")"
   ]
  }
 ],
 "metadata": {
  "kernelspec": {
   "display_name": "Python 3",
   "language": "python",
   "name": "python3"
  },
  "language_info": {
   "codemirror_mode": {
    "name": "ipython",
    "version": 3
   },
   "file_extension": ".py",
   "mimetype": "text/x-python",
   "name": "python",
   "nbconvert_exporter": "python",
   "pygments_lexer": "ipython3",
   "version": "3.6.4"
  }
 },
 "nbformat": 4,
 "nbformat_minor": 2
}
