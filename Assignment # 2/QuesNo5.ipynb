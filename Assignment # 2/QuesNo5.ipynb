{
 "cells": [
  {
   "cell_type": "code",
   "execution_count": 29,
   "metadata": {},
   "outputs": [
    {
     "name": "stdout",
     "output_type": "stream",
     "text": [
      "[1052, 15, 11, 2019]\n",
      "Sum of Elements of List =  2019\n"
     ]
    }
   ],
   "source": [
    "#Author: Farhan Shakil\n",
    "#Course: Python Programming Language \n",
    "#Roll # PY01052\n",
    "#Email: mfarhanshakil@gmail.com\n",
    "#Assignment # 2\n",
    "#Question # 5\n",
    "\n",
    "List_to_Check = [1052 , 15 , 11 , 2019]\n",
    "\n",
    "print(List_to_Check)\n",
    "\n",
    "print(\"Maximum Number of List = \" , max(List_to_Check))"
   ]
  }
 ],
 "metadata": {
  "kernelspec": {
   "display_name": "Python 3",
   "language": "python",
   "name": "python3"
  },
  "language_info": {
   "codemirror_mode": {
    "name": "ipython",
    "version": 3
   },
   "file_extension": ".py",
   "mimetype": "text/x-python",
   "name": "python",
   "nbconvert_exporter": "python",
   "pygments_lexer": "ipython3",
   "version": "3.6.4"
  }
 },
 "nbformat": 4,
 "nbformat_minor": 2
}
