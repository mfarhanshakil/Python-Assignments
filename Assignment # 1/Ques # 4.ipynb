{
 "cells": [
  {
   "cell_type": "code",
   "execution_count": 6,
   "metadata": {},
   "outputs": [
    {
     "name": "stdout",
     "output_type": "stream",
     "text": [
      "Enter Radius of Circle ===> 15\n",
      "\n",
      "\t Radius of Circle =  15.0\n",
      "\t Value of PI      =  3.141592653589793\n",
      "\t Area of Circle   =  706.8583470577034\n"
     ]
    }
   ],
   "source": [
    "# -*- coding: utf-8 -*-\n",
    "\"\"\"\n",
    "Created on Fri Nov  1 17:15:51 2019\n",
    "\n",
    "@author: Farhan Shakil\n",
    "Course: Python Programming Language \n",
    "Roll # PY01052\n",
    "Email: mfarhanshakil@gmail.com\n",
    "Assignment # 1\n",
    "Question # 4\n",
    "Python Program to Calculate Area of a circle using Radius Input\n",
    "\"\"\"\n",
    "\n",
    "from math import pi                     # Import Value of PI from Math Module\n",
    "                                        # Read Value of Radius from User\n",
    "radius_data = float(input (\"Enter Radius of Circle ===> \"))\n",
    "area_data   = pi * radius_data**2       # Calculate & Save Area of Circle\n",
    "                                        # Diplay Radius, PI & Area on Screen\n",
    "print (\"\\n\\t Radius of Circle = \" , radius_data)\n",
    "print (\"\\t Value of PI      = \" , pi)\n",
    "print (\"\\t Area of Circle   = \" , area_data)"
   ]
  }
 ],
 "metadata": {
  "kernelspec": {
   "display_name": "Python 3",
   "language": "python",
   "name": "python3"
  },
  "language_info": {
   "codemirror_mode": {
    "name": "ipython",
    "version": 3
   },
   "file_extension": ".py",
   "mimetype": "text/x-python",
   "name": "python",
   "nbconvert_exporter": "python",
   "pygments_lexer": "ipython3",
   "version": "3.6.4"
  }
 },
 "nbformat": 4,
 "nbformat_minor": 2
}
