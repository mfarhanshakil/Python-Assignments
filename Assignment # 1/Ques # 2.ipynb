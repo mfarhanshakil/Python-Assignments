{
 "cells": [
  {
   "cell_type": "code",
   "execution_count": 3,
   "metadata": {},
   "outputs": [
    {
     "name": "stdout",
     "output_type": "stream",
     "text": [
      "Python version\n",
      "3.6.4 |Anaconda, Inc.| (default, Jan 16 2018, 10:22:32) [MSC v.1900 64 bit (AMD64)]\n",
      "Version info.\n",
      "sys.version_info(major=3, minor=6, micro=4, releaselevel='final', serial=0)\n"
     ]
    }
   ],
   "source": [
    "# -*- coding: utf-8 -*-\n",
    "\"\"\"\n",
    "Created on Fri Nov  1 16:40:42 2019\n",
    "\n",
    "@author: Farhan Shakil\n",
    "Course: Python Programming Language \n",
    "Roll # PY01052\n",
    "Email: mfarhanshakil@gmail.com\n",
    "Assignment # 1\n",
    "Question # 2\n",
    "Python program to get the PYTHON VERSION\n",
    "\"\"\"\n",
    "\n",
    "import sys                          # Import System Modulw\n",
    "print(\"Python version\")             # Display Python Version on Screen\n",
    "print (sys.version)                 # Read & Display Python Version \n",
    "print(\"Version info.\")              # Display Version Information on Screen\n",
    "print (sys.version_info)            # Read & Display Version Info "
   ]
  }
 ],
 "metadata": {
  "kernelspec": {
   "display_name": "Python 3",
   "language": "python",
   "name": "python3"
  },
  "language_info": {
   "codemirror_mode": {
    "name": "ipython",
    "version": 3
   },
   "file_extension": ".py",
   "mimetype": "text/x-python",
   "name": "python",
   "nbconvert_exporter": "python",
   "pygments_lexer": "ipython3",
   "version": "3.6.4"
  }
 },
 "nbformat": 4,
 "nbformat_minor": 2
}
