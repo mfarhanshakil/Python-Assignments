{
 "cells": [
  {
   "cell_type": "code",
   "execution_count": 7,
   "metadata": {},
   "outputs": [
    {
     "name": "stdout",
     "output_type": "stream",
     "text": [
      "Input Your First Name ===> Farhan\n",
      "Input Your Last Name  ===> Shakil\n",
      "\n",
      "\tShakil Farhan\n",
      "\n",
      "\tlikahS nahraF\n"
     ]
    }
   ],
   "source": [
    "# -*- coding: utf-8 -*-\n",
    "\"\"\"\n",
    "Created on Fri Nov  1 17:29:33 2019\n",
    "\n",
    "@author: Farhan Shakil\n",
    "Course: Python Programming Language \n",
    "Roll # PY01052\n",
    "Email: mfarhanshakil@gmail.com\n",
    "Assignment # 1\n",
    "Question # 5\n",
    "Python Program which Accepts the User's First and Last Name\n",
    "It then Print Them in Reverse Order with Space Between Them\n",
    "\"\"\"\n",
    " \n",
    "first_name = input(\"Input Your First Name ===> \")   # Read First Name\n",
    "last_name  = input(\"Input Your Last Name  ===> \")   # REad Last Name\n",
    "\n",
    "print (\"\\n\\t\" + last_name + \" \" + first_name)       # Display Name in Reverse\n",
    "print (\"\\n\\t\" + last_name[::-1] + \" \" + first_name[::-1])"
   ]
  }
 ],
 "metadata": {
  "kernelspec": {
   "display_name": "Python 3",
   "language": "python",
   "name": "python3"
  },
  "language_info": {
   "codemirror_mode": {
    "name": "ipython",
    "version": 3
   },
   "file_extension": ".py",
   "mimetype": "text/x-python",
   "name": "python",
   "nbconvert_exporter": "python",
   "pygments_lexer": "ipython3",
   "version": "3.6.4"
  }
 },
 "nbformat": 4,
 "nbformat_minor": 2
}
