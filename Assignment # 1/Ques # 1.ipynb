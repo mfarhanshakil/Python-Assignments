{
 "cells": [
  {
   "cell_type": "code",
   "execution_count": 2,
   "metadata": {},
   "outputs": [
    {
     "name": "stdout",
     "output_type": "stream",
     "text": [
      "\n",
      "\t\tTwinkle, twinkle, little star,\n",
      "\t\t\tHow I wonder what you are!\n",
      "\t\t\t\tUp above the world so high,\n",
      "\t\t\t\tLike a diamond in the sky.\n",
      "\t\tTwinkle, twinkle, little star,\n",
      "\t\t\tHow I wonder what you are!\n"
     ]
    }
   ],
   "source": [
    "# -*- coding: utf-8 -*-\n",
    "\"\"\"\n",
    "Created on Fri Nov  1 16:30:14 2019\n",
    "\n",
    "@author: Farhan Shakil\n",
    "Course: Python Programming Language \n",
    "Roll # PY01052\n",
    "Email: mfarhanshakil@gmail.com\n",
    "Assignment # 1\n",
    "Question # 1\n",
    "Print TWINKLE TWINKLE Poem on Screen in Specified Format\n",
    "\"\"\" \n",
    "poem_first_line  = \"Twinkle, twinkle, little star,\"  # Save Poem in Variable\n",
    "poem_second_line = \"How I wonder what you are!\"\n",
    "poem_third_line  = \"Up above the world so high,\"\n",
    "poem_fourth_line = \"Like a diamond in the sky.\" \n",
    "                                                     # Display Poem on Screen\n",
    "print(\"\\n\\t\\t\" + poem_first_line + \"\\n\\t\\t\\t\" + poem_second_line)\n",
    "print(\"\\t\\t\\t\\t\" + poem_third_line + \"\\n\\t\\t\\t\\t\" + poem_fourth_line)\n",
    "print(\"\\t\\t\" + poem_first_line + \"\\n\\t\\t\\t\" + poem_second_line)"
   ]
  }
 ],
 "metadata": {
  "kernelspec": {
   "display_name": "Python 3",
   "language": "python",
   "name": "python3"
  },
  "language_info": {
   "codemirror_mode": {
    "name": "ipython",
    "version": 3
   },
   "file_extension": ".py",
   "mimetype": "text/x-python",
   "name": "python",
   "nbconvert_exporter": "python",
   "pygments_lexer": "ipython3",
   "version": "3.6.4"
  }
 },
 "nbformat": 4,
 "nbformat_minor": 2
}
