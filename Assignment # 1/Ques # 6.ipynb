{
 "cells": [
  {
   "cell_type": "code",
   "execution_count": 12,
   "metadata": {},
   "outputs": [
    {
     "name": "stdout",
     "output_type": "stream",
     "text": [
      "Enter First Input  ===> 155\n",
      "Enter Second Input ===> -19\n",
      "\n",
      "\tAddition of 155 & -19 = 136\n"
     ]
    }
   ],
   "source": [
    "# -*- coding: utf-8 -*-\n",
    "\"\"\"\n",
    "Created on Fri Nov  1 17:43:11 2019\n",
    "\n",
    "@author: Farhan Shakil\n",
    "Course: Python Programming Language \n",
    "Roll # PY01052\n",
    "Email: mfarhanshakil@gmail.com\n",
    "Assignment # 1\n",
    "Question # 6\n",
    "Python Program which Takes Two Inputs from User and Print Them Addition\n",
    "\"\"\"\n",
    "\n",
    "first_input  = int(input(\"Enter First Input  ===> \"))    # Read First Input\n",
    "second_input = int(input(\"Enter Second Input ===> \"))    # Read Second Input\n",
    "                                                         # Diplay Addition on Screen\n",
    "print(\"\\n\\tAddition of\" , first_input , \"&\" , second_input , \"=\" , first_input + second_input)"
   ]
  }
 ],
 "metadata": {
  "kernelspec": {
   "display_name": "Python 3",
   "language": "python",
   "name": "python3"
  },
  "language_info": {
   "codemirror_mode": {
    "name": "ipython",
    "version": 3
   },
   "file_extension": ".py",
   "mimetype": "text/x-python",
   "name": "python",
   "nbconvert_exporter": "python",
   "pygments_lexer": "ipython3",
   "version": "3.6.4"
  }
 },
 "nbformat": 4,
 "nbformat_minor": 2
}
