{
 "cells": [
  {
   "cell_type": "code",
   "execution_count": 21,
   "metadata": {
    "collapsed": false
   },
   "outputs": [
    {
     "name": "stdout",
     "output_type": "stream",
     "text": [
      "Initial Data of Dictionary is as below:\n",
      "\tPerson First_Name is Azmat\n",
      "\tPerson Last_Name is Ali\n",
      "\tPerson Age is 35 Years\n",
      "\tPerson City is Rawalpindi\n",
      "\n",
      "\n",
      "Data of Dictionary after Addition of Qualification is as below:\n",
      "\tPerson First_Name is Azmat\n",
      "\tPerson Last_Name is Ali\n",
      "\tPerson Age is 35 Years\n",
      "\tPerson City is Rawalpindi\n",
      "\tPerson Qualification is Masters\n",
      "\n",
      "\n",
      "Data after Updation of Qualification is as below:\n",
      "\tPerson First_Name is Azmat\n",
      "\tPerson Last_Name is Ali\n",
      "\tPerson Age is 35 Years\n",
      "\tPerson City is Rawalpindi\n",
      "\tPerson Qualification is PhD\n",
      "\n",
      "\n",
      "Data after Deletion of Qualification is as below:\n",
      "\tPerson First_Name is Azmat\n",
      "\tPerson Last_Name is Ali\n",
      "\tPerson Age is 35 Years\n",
      "\tPerson City is Rawalpindi\n"
     ]
    }
   ],
   "source": [
    "#Author: Farhan Shakil\n",
    "#Course: Python Programming Language \n",
    "#Roll # PY01052\n",
    "#Email: mfarhanshakil@gmail.com\n",
    "#Assignment # 4\n",
    "#Question # 1\n",
    "\n",
    "person_details = {\n",
    "\"First_Name\":\"Azmat\" ,\n",
    "\"Last_Name\":\"Ali\" ,\n",
    "\"Age\":\"35 Years\" ,\n",
    "\"City\":\"Rawalpindi\"\n",
    "}\n",
    "\n",
    "print (\"Initial Data of Dictionary is as below:\")\n",
    "\n",
    "for each_key, each_value in person_details.items():\n",
    "    print(\"\\tPerson \" + each_key + \" is \" +each_value)\n",
    "\n",
    "person_details[\"Qualification\"] = \"Masters\"\n",
    "\n",
    "print (\"\\n\\nData of Dictionary after Addition of Qualification is as below:\")\n",
    "\n",
    "for each_key, each_value in person_details.items():\n",
    "    print(\"\\tPerson \" + each_key + \" is \" +each_value)\n",
    "\n",
    "person_details[\"Qualification\"] = \"PhD\"\n",
    "\n",
    "print (\"\\n\\nData after Updation of Qualification is as below:\")\n",
    "\n",
    "for each_key, each_value in person_details.items():\n",
    "    print(\"\\tPerson \" + each_key + \" is \" +each_value)\n",
    "\n",
    "del person_details[\"Qualification\"]\n",
    "\n",
    "\n",
    "print (\"\\n\\nData after Deletion of Qualification is as below:\")\n",
    "\n",
    "for each_key, each_value in person_details.items():\n",
    "    print(\"\\tPerson \" + each_key + \" is \" +each_value)"
   ]
  },
  {
   "cell_type": "code",
   "execution_count": 39,
   "metadata": {
    "collapsed": false
   },
   "outputs": [
    {
     "name": "stdout",
     "output_type": "stream",
     "text": [
      "Data Saved in List of Dictionary is as below:\n",
      "\n",
      "\tCity Name is Newyork\n",
      "\tCity Country is USA\n",
      "\tCity Population is 8,398,748\n",
      "\tCity Fact is Longest Transportation Network\n",
      "\n",
      "\tCity Name is Toronto\n",
      "\tCity Country is Canada\n",
      "\tCity Population is 2,731,571\n",
      "\tCity Fact is Famous Tourist Spot\n",
      "\n",
      "\tCity Name is London\n",
      "\tCity Country is England\n",
      "\tCity Population is 8,908,081\n",
      "\tCity Fact is London Eye\n"
     ]
    }
   ],
   "source": [
    "#Author: Farhan Shakil\n",
    "#Course: Python Programming Language \n",
    "#Roll # PY01052\n",
    "#Email: mfarhanshakil@gmail.com\n",
    "#Assignment # 4\n",
    "#Question # 2\n",
    "\n",
    "cities_data = [\n",
    "{\n",
    "    \"Name\":\"Newyork\" ,\n",
    "    \"Country\":\"USA\" ,\n",
    "    \"Population\": \"8,398,748\" ,\n",
    "    \"Fact\": \"Longest Transportation Network\" ,\n",
    "},\n",
    "{\n",
    "    \"Name\":\"Toronto\" ,\n",
    "    \"Country\":\"Canada\" ,\n",
    "    \"Population\": \"2,731,571\" ,\n",
    "    \"Fact\": \"Famous Tourist Spot\" ,\n",
    "},\n",
    "{\n",
    "    \"Name\":\"London\" ,\n",
    "    \"Country\":\"England\" ,\n",
    "    \"Population\": \"8,908,081\" ,\n",
    "    \"Fact\": \"London Eye\" ,\n",
    "},\n",
    "]\n",
    "\n",
    "print (\"Data Saved in List of Dictionary is as below:\")\n",
    "\n",
    "for dict_data in range(len(cities_data)):\n",
    "    print(\"\");\n",
    "    for each_key, each_value in cities_data[dict_data].items():\n",
    "        print(\"\\tCity \" + each_key + \" is \" + each_value)\n"
   ]
  },
  {
   "cell_type": "code",
   "execution_count": 49,
   "metadata": {
    "cocalc": {
     "outputs": {
      "0": {
       "name": "input",
       "opts": {
        "password": false,
        "prompt": "Please Enter Your Age ===>>> "
       },
       "output_type": "stream",
       "value": "12"
      },
      "2": {
       "name": "input",
       "opts": {
        "password": false,
        "prompt": "Enter 'E' or 'e' to Exit or Any Other Key to Check Again"
       },
       "output_type": "stream",
       "value": "a"
      },
      "3": {
       "name": "input",
       "opts": {
        "password": false,
        "prompt": "Please Enter Your Age ===>>> "
       },
       "output_type": "stream",
       "value": "1"
      },
      "5": {
       "name": "input",
       "opts": {
        "password": false,
        "prompt": "Enter 'E' or 'e' to Exit or Any Other Key to Check Again"
       },
       "output_type": "stream",
       "value": "q"
      },
      "6": {
       "name": "input",
       "opts": {
        "password": false,
        "prompt": "Please Enter Your Age ===>>> "
       },
       "output_type": "stream",
       "value": "20"
      },
      "8": {
       "name": "input",
       "opts": {
        "password": false,
        "prompt": "Enter 'E' or 'e' to Exit or Any Other Key to Check Again"
       },
       "output_type": "stream",
       "value": "e"
      }
     }
    },
    "collapsed": false
   },
   "outputs": [
    {
     "name": "stdout",
     "output_type": "stream",
     "text": "Please Enter Your Age ===>>>  12"
    },
    {
     "name": "stdout",
     "output_type": "stream",
     "text": [
      "\tYour Ticket Cost is $10\n"
     ]
    },
    {
     "name": "stdout",
     "output_type": "stream",
     "text": "Enter 'E' or 'e' to Exit or Any Other Key to Check Again a"
    },
    {
     "name": "stdout",
     "output_type": "stream",
     "text": "Please Enter Your Age ===>>>  1"
    },
    {
     "name": "stdout",
     "output_type": "stream",
     "text": [
      "\tYour Ticket is Free\n"
     ]
    },
    {
     "name": "stdout",
     "output_type": "stream",
     "text": "Enter 'E' or 'e' to Exit or Any Other Key to Check Again q"
    },
    {
     "name": "stdout",
     "output_type": "stream",
     "text": "Please Enter Your Age ===>>>  20"
    },
    {
     "name": "stdout",
     "output_type": "stream",
     "text": [
      "\tYour Ticket Cost is $15\n"
     ]
    },
    {
     "name": "stdout",
     "output_type": "stream",
     "text": "Enter 'E' or 'e' to Exit or Any Other Key to Check Again e"
    }
   ],
   "source": [
    "#Author: Farhan Shakil\n",
    "#Course: Python Programming Language \n",
    "#Roll # PY01052\n",
    "#Email: mfarhanshakil@gmail.com\n",
    "#Assignment # 4\n",
    "#Question # 3\n",
    "\n",
    "cont_char = 'c'\n",
    "\n",
    "while cont_char != 'E' and cont_char != 'e':\n",
    "    person_age = int(input(\"Please Enter Your Age ===>>> \"))\n",
    "\n",
    "    if person_age < 3:\n",
    "        print(\"\\tYour Ticket is Free\")\n",
    "    elif person_age >= 3 and person_age <= 12:\n",
    "        print(\"\\tYour Ticket Cost is $10\")\n",
    "    else:\n",
    "        print(\"\\tYour Ticket Cost is $15\")\n",
    "\n",
    "    cont_char = input(\"Enter \\'E' or 'e' to Exit or Any Other Key to Check Again\")"
   ]
  },
  {
   "cell_type": "code",
   "execution_count": 52,
   "metadata": {
    "cocalc": {
     "outputs": {
      "0": {
       "name": "input",
       "opts": {
        "password": false,
        "prompt": "Enter Name of Book ===>>>   "
       },
       "output_type": "stream",
       "value": "Quran-E-Pak"
      }
     }
    },
    "collapsed": false
   },
   "outputs": [
    {
     "name": "stdout",
     "output_type": "stream",
     "text": "Enter Name of Book ===>>>    Quran-E-Pak"
    },
    {
     "name": "stdout",
     "output_type": "stream",
     "text": [
      "One of My Favorite Book is Quran-E-Pak\n"
     ]
    }
   ],
   "source": [
    "#Author: Farhan Shakil\n",
    "#Course: Python Programming Language \n",
    "#Roll # PY01052\n",
    "#Email: mfarhanshakil@gmail.com\n",
    "#Assignment # 4\n",
    "#Question # 4\n",
    "\n",
    "book_title = input(\"Enter Name of Book ===>>>   \")\n",
    "\n",
    "favorite_book(book_title)\n",
    "\n",
    "\n",
    "\n",
    "def favorite_book(title_of_book):\n",
    "    print(\"One of My Favorite Book is\" , title_of_book)"
   ]
  },
  {
   "cell_type": "code",
   "execution_count": 62,
   "metadata": {
    "cocalc": {
     "outputs": {
      "1": {
       "name": "input",
       "opts": {
        "password": false,
        "prompt": "Enter Your Guess # "
       },
       "output_type": "stream",
       "value": "24"
      },
      "3": {
       "name": "input",
       "opts": {
        "password": false,
        "prompt": "Enter Your Guess # "
       },
       "output_type": "stream",
       "value": "15"
      },
      "5": {
       "name": "input",
       "opts": {
        "password": false,
        "prompt": "Enter Your Guess # "
       },
       "output_type": "stream",
       "value": "8"
      }
     }
    },
    "collapsed": false
   },
   "outputs": [
    {
     "name": "stdout",
     "output_type": "stream",
     "text": [
      "\t Guessing Number Game\n",
      "Guess Value between 1 to 30\n",
      "Three Chances will be provided\n"
     ]
    },
    {
     "name": "stdout",
     "output_type": "stream",
     "text": "Enter Your Guess #  24"
    },
    {
     "name": "stdout",
     "output_type": "stream",
     "text": [
      "\tYour Number is Greater than Desired Value\n",
      "Chance #  2\n"
     ]
    },
    {
     "name": "stdout",
     "output_type": "stream",
     "text": "Enter Your Guess #  15"
    },
    {
     "name": "stdout",
     "output_type": "stream",
     "text": [
      "\tYour Number is Greater than Desired Value\n",
      "Chance #  3\n"
     ]
    },
    {
     "name": "stdout",
     "output_type": "stream",
     "text": "Enter Your Guess #  8"
    },
    {
     "name": "stdout",
     "output_type": "stream",
     "text": [
      "\tYour Number is Less than Desired Value\n",
      "\tYou Could Not Guessed Desired Number. You Lost\n"
     ]
    }
   ],
   "source": [
    "#Author: Farhan Shakil\n",
    "#Course: Python Programming Language \n",
    "#Roll # PY01052\n",
    "#Email: mfarhanshakil@gmail.com\n",
    "#Assignment # 4\n",
    "#Question # 5\n",
    "\n",
    "import random\n",
    "\n",
    "print(\"\\t Guessing Number Game\")\n",
    "print(\"Guess Value between 1 to 30\")\n",
    "print(\"Three Chances will be provided\")\n",
    "\n",
    "num_to_guess = random.randrange(1 , 30 , 1)\n",
    "\n",
    "for loop_val in range(3):\n",
    "    num_guessed = int(input(\"Enter Your Guess # \"))\n",
    "\n",
    "    if num_to_guess == num_guessed:\n",
    "        print(\"\\tYou Guessed Exact Number. You Win!\")\n",
    "        break\n",
    "    elif num_to_guess < num_guessed:\n",
    "        print(\"\\tYour Number is Greater than Desired Value\")\n",
    "    else:\n",
    "        print(\"\\tYour Number is Less than Desired Value\")\n",
    "\n",
    "    if loop_val == 2:\n",
    "        print(\"\\tYou Could Not Guessed Desired Number. You Lost\")\n",
    "    else:\n",
    "        print(\"Chance # \" , (loop_val + 2))"
   ]
  },
  {
   "cell_type": "code",
   "execution_count": 0,
   "metadata": {
    "collapsed": false
   },
   "outputs": [
   ],
   "source": [
   ]
  }
 ],
 "metadata": {
  "kernelspec": {
   "display_name": "Python 3 (system-wide)",
   "language": "python",
   "metadata": {
    "cocalc": {
     "description": "Python 3 programming language",
     "priority": 100,
     "url": "https://www.python.org/"
    }
   },
   "name": "python3"
  },
  "language_info": {
   "codemirror_mode": {
    "name": "ipython",
    "version": 3
   },
   "file_extension": ".py",
   "mimetype": "text/x-python",
   "name": "python",
   "nbconvert_exporter": "python",
   "pygments_lexer": "ipython3",
   "version": "3.6.9"
  }
 },
 "nbformat": 4,
 "nbformat_minor": 0
}