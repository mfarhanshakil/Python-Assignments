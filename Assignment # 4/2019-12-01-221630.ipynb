{
 "cells": [
  {
   "cell_type": "code",
   "execution_count": 17,
   "metadata": {
    "collapsed": false
   },
   "outputs": [
    {
     "name": "stdout",
     "output_type": "stream",
     "text": [
      "Name of My Friend is Azmat Ali\n",
      "His Age is 35 Years\n",
      "He Lives in Rawalpindi\n",
      "His Qualifiction is Masters\n",
      "His Updated Qualifiction is PhD\n",
      "\n",
      " Data after Deletion of Qualification is as below:-\n",
      "{'First_Name': 'Azmat', 'Last_Name': 'Ali', 'Age': '35 Years', 'City': 'Rawalpindi'}\n"
     ]
    }
   ],
   "source": [
    "#Author: Farhan Shakil\n",
    "#Course: Python Programming Language \n",
    "#Roll # PY01052\n",
    "#Email: mfarhanshakil@gmail.com\n",
    "#Assignment # 4\n",
    "#Question # 1\n",
    "\n",
    "person_details = {\n",
    "\"First_Name\":\"Azmat\" ,\n",
    "\"Last_Name\":\"Ali\" ,\n",
    "\"Age\":\"35 Years\" ,\n",
    "\"City\":\"Rawalpindi\"\n",
    "}\n",
    "\n",
    "print(\"Name of My Friend is\" , person_details[\"First_Name\"] , person_details[\"Last_Name\"])\n",
    "print(\"His Age is\" , person_details[\"Age\"])\n",
    "print(\"He Lives in\" , person_details[\"City\"])\n",
    "\n",
    "person_details[\"Qualification\"] = \"Masters\"\n",
    "\n",
    "print(\"His Qualifiction is\" , person_details[\"Qualification\"])\n",
    "\n",
    "person_details[\"Qualification\"] = \"PhD\"\n",
    "\n",
    "print(\"His Updated Qualifiction is\" , person_details[\"Qualification\"])\n",
    "\n",
    "del person_details[\"Qualification\"]\n",
    "\n",
    "print(\"\\n Data after Deletion of Qualification is as below:-\")\n",
    "print(person_details)"
   ]
  },
  {
   "cell_type": "code",
   "execution_count": 0,
   "metadata": {
    "collapsed": false
   },
   "outputs": [
   ],
   "source": [
    "#Author: Farhan Shakil\n",
    "#Course: Python Programming Language \n",
    "#Roll # PY01052\n",
    "#Email: mfarhanshakil@gmail.com\n",
    "#Assignment # 4\n",
    "#Question # 1\n",
    "\n",
    "person_details = {\n",
    "\"First_Name\":\"Azmat\" ,\n",
    "\"Last_Name\":\"Ali\" ,\n",
    "\"Age\":\"35 Years\" ,\n",
    "\"City\":\"Rawalpindi\"\n",
    "}\n",
    "\n",
    "print(\"Name of My Friend is\" , person_details[\"First_Name\"] , person_details[\"Last_Name\"])\n",
    "print(\"His Age is\" , person_details[\"Age\"])\n",
    "print(\"He Lives in\" , person_details[\"City\"])\n",
    "\n",
    "person_details[\"Qualification\"] = \"Masters\"\n",
    "\n",
    "print(\"His Qualifiction is\" , person_details[\"Qualification\"])\n",
    "\n",
    "person_details[\"Qualification\"] = \"PhD\"\n",
    "\n",
    "print(\"His Updated Qualifiction is\" , person_details[\"Qualification\"])\n",
    "\n",
    "del person_details[\"Qualification\"]\n",
    "\n",
    "print(\"\\n Data after Deletion of Qualification is as below:-\")\n",
    "print(person_details)"
   ]
  }
 ],
 "metadata": {
  "kernelspec": {
   "display_name": "Python 3 (system-wide)",
   "language": "python",
   "metadata": {
    "cocalc": {
     "description": "Python 3 programming language",
     "priority": 100,
     "url": "https://www.python.org/"
    }
   },
   "name": "python3"
  },
  "language_info": {
   "codemirror_mode": {
    "name": "ipython",
    "version": 3
   },
   "file_extension": ".py",
   "mimetype": "text/x-python",
   "name": "python",
   "nbconvert_exporter": "python",
   "pygments_lexer": "ipython3",
   "version": "3.6.9"
  }
 },
 "nbformat": 4,
 "nbformat_minor": 0
}