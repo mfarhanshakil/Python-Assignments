{
 "cells": [
  {
   "cell_type": "code",
   "execution_count": 21,
   "metadata": {},
   "outputs": [
    {
     "name": "stdout",
     "output_type": "stream",
     "text": [
      "Original List =>  ['Farhan Shakil', 'Python', 'Programming', 1052, 3, 5, 'Farhan Shakil', 1052, 22, 'Nov', 2019, 22]\n",
      "List with Duplicate Values =>  {'Farhan Shakil', 1052, 22}\n"
     ]
    }
   ],
   "source": [
    "#Author: Farhan Shakil\n",
    "#Course: Python Programming Language \n",
    "#Roll # PY01052\n",
    "#Email: mfarhanshakil@gmail.com\n",
    "#Assignment # 3\n",
    "#Question # 5\n",
    "\n",
    "data_list = [\"Farhan Shakil\" , \"Python\" , \"Programming\" , 1052 , 3 , 5 , \"Farhan Shakil\" , 1052 , 22 , \"Nov\" , 2019 , 22]\n",
    "\n",
    "print(\"Original List => \" , data_list)\n",
    "\n",
    "dup_list = set([value for value in data_list if data_list.count(value) > 1])\n",
    "\n",
    "print(\"List with Duplicate Values => \" , dup_list)\n"
   ]
  }
 ],
 "metadata": {
  "kernelspec": {
   "display_name": "Python 3",
   "language": "python",
   "name": "python3"
  },
  "language_info": {
   "codemirror_mode": {
    "name": "ipython",
    "version": 3
   },
   "file_extension": ".py",
   "mimetype": "text/x-python",
   "name": "python",
   "nbconvert_exporter": "python",
   "pygments_lexer": "ipython3",
   "version": "3.6.4"
  }
 },
 "nbformat": 4,
 "nbformat_minor": 2
}
