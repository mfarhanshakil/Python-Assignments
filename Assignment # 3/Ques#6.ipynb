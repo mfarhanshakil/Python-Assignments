{
 "cells": [
  {
   "cell_type": "code",
   "execution_count": 30,
   "metadata": {},
   "outputs": [
    {
     "name": "stdout",
     "output_type": "stream",
     "text": [
      "Enter Your Key to Check if it is Present or Not => Assignment #\n",
      "Key Assignment # is present in Dictionary\n"
     ]
    }
   ],
   "source": [
    "#Author: Farhan Shakil\n",
    "#Course: Python Programming Language \n",
    "#Roll # PY01052\n",
    "#Email: mfarhanshakil@gmail.com\n",
    "#Assignment # 3\n",
    "#Question # 6\n",
    "\n",
    "my_dict = {\n",
    "\"Name\":\"Farhan Shakil\" , \n",
    "\"Course\":\"Python Programming\" ,\n",
    "\"Roll #\":\"PY01052\" ,\n",
    "\"Email\":\"mfarhanshakil@gmail.com\" ,\n",
    "\"Assignment #\":3 ,\n",
    "\"Question #\":3\n",
    "}\n",
    "\n",
    "chk_key = input(\"Enter Your Key to Check if it is Present or Not => \")\n",
    "\n",
    "if chk_key in my_dict:\n",
    "    print(\"Key\" , chk_key , \"is present in Dictionary\")\n",
    "else:\n",
    "    print(\"Key\" , chk_key , \"is not present in Dictionary\")\n"
   ]
  }
 ],
 "metadata": {
  "kernelspec": {
   "display_name": "Python 3",
   "language": "python",
   "name": "python3"
  },
  "language_info": {
   "codemirror_mode": {
    "name": "ipython",
    "version": 3
   },
   "file_extension": ".py",
   "mimetype": "text/x-python",
   "name": "python",
   "nbconvert_exporter": "python",
   "pygments_lexer": "ipython3",
   "version": "3.6.4"
  }
 },
 "nbformat": 4,
 "nbformat_minor": 2
}
