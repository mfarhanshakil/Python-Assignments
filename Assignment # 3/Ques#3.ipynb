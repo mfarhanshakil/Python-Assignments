{
 "cells": [
  {
   "cell_type": "code",
   "execution_count": 7,
   "metadata": {},
   "outputs": [
    {
     "name": "stdout",
     "output_type": "stream",
     "text": [
      "\t Dictionary Defined\n",
      "Name => Farhan Shakil\n",
      "Course => Python Programming\n",
      "Roll # => PY01052\n",
      "Email => mfarhanshakil@gmail.com\n",
      "Assignment # => 3\n",
      "\n",
      "\t Dictionary After Addition of New Key\n",
      "Name => Farhan Shakil\n",
      "Course => Python Programming\n",
      "Roll # => PY01052\n",
      "Email => mfarhanshakil@gmail.com\n",
      "Assignment # => 3\n",
      "Question # => 3\n"
     ]
    }
   ],
   "source": [
    "#Author: Farhan Shakil\n",
    "#Course: Python Programming Language \n",
    "#Roll # PY01052\n",
    "#Email: mfarhanshakil@gmail.com\n",
    "#Assignment # 3\n",
    "#Question # 3\n",
    "\n",
    "my_dict = {\n",
    "\"Name\":\"Farhan Shakil\" , \n",
    "\"Course\":\"Python Programming\" ,\n",
    "\"Roll #\":\"PY01052\" ,\n",
    "\"Email\":\"mfarhanshakil@gmail.com\" ,\n",
    "\"Assignment #\":3\n",
    "}\n",
    "\n",
    "print(\"\\t Dictionary Defined\")\n",
    "\n",
    "for key_val , value in my_dict.items():\n",
    "    print(key_val , \"=>\" , value)\n",
    "\n",
    "my_dict[\"Question #\"] = 3\n",
    "\n",
    "print(\"\\n\\t Dictionary After Addition of New Key\")\n",
    "\n",
    "for key_val , value in my_dict.items():\n",
    "    print(key_val , \"=>\" , value)\n"
   ]
  }
 ],
 "metadata": {
  "kernelspec": {
   "display_name": "Python 3",
   "language": "python",
   "name": "python3"
  },
  "language_info": {
   "codemirror_mode": {
    "name": "ipython",
    "version": 3
   },
   "file_extension": ".py",
   "mimetype": "text/x-python",
   "name": "python",
   "nbconvert_exporter": "python",
   "pygments_lexer": "ipython3",
   "version": "3.6.4"
  }
 },
 "nbformat": 4,
 "nbformat_minor": 2
}
