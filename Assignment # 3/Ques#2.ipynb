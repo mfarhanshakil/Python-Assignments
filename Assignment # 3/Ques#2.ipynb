{
 "cells": [
  {
   "cell_type": "code",
   "execution_count": 12,
   "metadata": {},
   "outputs": [
    {
     "name": "stdout",
     "output_type": "stream",
     "text": [
      "List has values =>  ['Farhan Shakil', 'Python', 'Programming', 1052, 3, 2]\n",
      "List Contains Numeric Values\n"
     ]
    }
   ],
   "source": [
    "#Author: Farhan Shakil\n",
    "#Course: Python Programming Language \n",
    "#Roll # PY01052\n",
    "#Email: mfarhanshakil@gmail.com\n",
    "#Assignment # 3\n",
    "#Question # 2\n",
    "    \n",
    "list_values = [\"Farhan Shakil\" , \"Python\" , \"Programming\" , 1052 , 3 , 2]\n",
    "\n",
    "print(\"List has values => \" , list_values)\n",
    "\n",
    "numeric_flag = False\n",
    "\n",
    "for chk_var in list_values:\n",
    "    if (isinstance(chk_var , (int , float))):\n",
    "        numeric_flag = True\n",
    "        \n",
    "if numeric_flag:\n",
    "    print(\"List Contains Numeric Values\")\n",
    "else:\n",
    "    print(\"List Donot Contain Numeric Values\")    "
   ]
  }
 ],
 "metadata": {
  "kernelspec": {
   "display_name": "Python 3",
   "language": "python",
   "name": "python3"
  },
  "language_info": {
   "codemirror_mode": {
    "name": "ipython",
    "version": 3
   },
   "file_extension": ".py",
   "mimetype": "text/x-python",
   "name": "python",
   "nbconvert_exporter": "python",
   "pygments_lexer": "ipython3",
   "version": "3.6.4"
  }
 },
 "nbformat": 4,
 "nbformat_minor": 2
}
