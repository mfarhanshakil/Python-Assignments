{
 "cells": [
  {
   "cell_type": "code",
   "execution_count": 2,
   "metadata": {},
   "outputs": [
    {
     "name": "stdout",
     "output_type": "stream",
     "text": [
      " Question 1: \n",
      "\t Define Object Oriented Programming Language?\n",
      " Answer: \n",
      "\t     Object Oriented Programming (OOP) Language uses objects and procedures defined\n",
      "\t within the programming context for coding softwares. It bind data and functions\n",
      "\t within objects which enable code reuse within the same and other programs.\n",
      "\t     Object Ooriented Programming Language reduces complexity inherent in\n",
      "\t procedural languages through data binding and encapsulation techniques. In Object\n",
      "\t Oriented Programming Language, Objects that are created provide minimum or virtually\n",
      "\t no access to other functions and methods within program code. This results in only\n",
      "\t authorized methods and functions to access a particular object.\n"
     ]
    }
   ],
   "source": [
    "#Author: Farhan Shakil\n",
    "#Course: Python Programming Language \n",
    "#Roll # PY01052\n",
    "#Email: mfarhanshakil@gmail.com\n",
    "#Assignment # 6\n",
    "#Question # 1\n",
    "\n",
    "print(\" Question 1: \\n\\t Define Object Oriented Programming Language?\")\n",
    "print(\" Answer: \\\n",
    "\\n\\t     Object Oriented Programming (OOP) Language uses objects and procedures defined\\\n",
    "\\n\\t within the programming context for coding softwares. It bind data and functions\\\n",
    "\\n\\t within objects which enable code reuse within the same and other programs.\\\n",
    "\\n\\t     Object Ooriented Programming Language reduces complexity inherent in\\\n",
    "\\n\\t procedural languages through data binding and encapsulation techniques. In Object\\\n",
    "\\n\\t Oriented Programming Language, Objects that are created provide minimum or virtually\\\n",
    "\\n\\t no access to other functions and methods within program code. This results in only\\\n",
    "\\n\\t authorized methods and functions to access a particular object.\")"
   ]
  },
  {
   "cell_type": "code",
   "execution_count": 4,
   "metadata": {},
   "outputs": [
    {
     "name": "stdout",
     "output_type": "stream",
     "text": [
      " Question 2: \n",
      "\t List Down The Benefits of OOP?\n",
      " Answer: \n",
      "\t Below are Benifits of Object Oriented Programming:-\n",
      "\t   1. Modularity\n",
      "\t   2. Code Reuseability\n",
      "\t   3. Code Flexibility\n",
      "\t   4. Effective Problem Solution\n",
      "\t   5. Easy Maintenance\n",
      "\t   6. Fast Development\n"
     ]
    }
   ],
   "source": [
    "#Author: Farhan Shakil\n",
    "#Course: Python Programming Language \n",
    "#Roll # PY01052\n",
    "#Email: mfarhanshakil@gmail.com\n",
    "#Assignment # 6\n",
    "#Question # 2\n",
    "\n",
    "print(\" Question 2: \\n\\t List Down The Benefits of OOP?\")\n",
    "print(\" Answer: \\\n",
    "\\n\\t Below are Benifits of Object Oriented Programming:-\\\n",
    "\\n\\t   1. Modularity\\\n",
    "\\n\\t   2. Code Reuseability\\\n",
    "\\n\\t   3. Code Flexibility\\\n",
    "\\n\\t   4. Effective Problem Solution\\\n",
    "\\n\\t   5. Easy Maintenance\\\n",
    "\\n\\t   6. Fast Development\")"
   ]
  },
  {
   "cell_type": "code",
   "execution_count": 5,
   "metadata": {},
   "outputs": [
    {
     "name": "stdout",
     "output_type": "stream",
     "text": [
      " Question 3: \n",
      "\t Differentiate between Function and Method?\n",
      " Answer: \n",
      "\t     A Function is a piece of code that is called by name. It can be passed data i.e.\n",
      "\t parameters to operate on and can optionally return data (the return value).\n",
      "\t Data is explicitly passed to a function.\n",
      "\t     A method is a piece of code that is called by a name that is associated with an\n",
      "\t object. In is different from function as mentioned below:\n",
      "\t   1. A method is implicitly passed the object on which it was called.\n",
      "\t   2. A method is able to operate on data that is contained within the class.\n"
     ]
    }
   ],
   "source": [
    "#Author: Farhan Shakil\n",
    "#Course: Python Programming Language \n",
    "#Roll # PY01052\n",
    "#Email: mfarhanshakil@gmail.com\n",
    "#Assignment # 6\n",
    "#Question # 3\n",
    "\n",
    "print(\" Question 3: \\n\\t Differentiate between Function and Method?\")\n",
    "print(\" Answer: \\\n",
    "\\n\\t     A Function is a piece of code that is called by name. It can be passed data i.e.\\\n",
    "\\n\\t parameters to operate on and can optionally return data (the return value).\\\n",
    "\\n\\t Data is explicitly passed to a function.\\\n",
    "\\n\\t     A method is a piece of code that is called by a name that is associated with an\\\n",
    "\\n\\t object. In is different from function as mentioned below:\\\n",
    "\\n\\t   1. A method is implicitly passed the object on which it was called.\\\n",
    "\\n\\t   2. A method is able to operate on data that is contained within the class.\")"
   ]
  },
  {
   "cell_type": "code",
   "execution_count": 7,
   "metadata": {},
   "outputs": [
    {
     "name": "stdout",
     "output_type": "stream",
     "text": [
      " Question 4: \n",
      "\t Define the following terms:\n",
      " \t   1. Class\n",
      "\t   2. Object\n",
      "\t   3. Attribute\n",
      "\t   4. Behavior\n",
      " Answer: \n",
      "\t   1. Class:\n",
      "\t        Class is a template definition of the methods and variables in Object Oriented Programming.\n",
      "\t   2. Object:\n",
      "\t        An object is a set of variables and related methods used to be derived from class.\n",
      "\t   3. Attribute:\n",
      "\t        Attributes are data stored inside a class or instance and represent the state or quality\n",
      "\t      of the class or instance.\n",
      "\t   4. Behavior:\n",
      "\t         Behavior determines how an instance of any class operates.\n"
     ]
    }
   ],
   "source": [
    "#Author: Farhan Shakil\n",
    "#Course: Python Programming Language \n",
    "#Roll # PY01052\n",
    "#Email: mfarhanshakil@gmail.com\n",
    "#Assignment # 6\n",
    "#Question # 4\n",
    "\n",
    "print(\" Question 4: \\n\\t Define the following terms:\")\n",
    "print(\" \\t   1. Class\\n\\t   2. Object\\n\\t   3. Attribute\\n\\t   4. Behavior\")\n",
    "print(\" Answer: \\\n",
    "\\n\\t   1. Class:\\\n",
    "\\n\\t        Class is a template definition of the methods and variables in Object Oriented Programming.\\\n",
    "\\n\\t   2. Object:\\\n",
    "\\n\\t        An object is a set of variables and related methods used to be derived from class.\\\n",
    "\\n\\t   3. Attribute:\\\n",
    "\\n\\t        Attributes are data stored inside a class or instance and represent the state or quality\\\n",
    "\\n\\t      of the class or instance.\\\n",
    "\\n\\t   4. Behavior:\\\n",
    "\\n\\t         Behavior determines how an instance of any class operates.\")"
   ]
  },
  {
   "cell_type": "code",
   "execution_count": 3,
   "metadata": {},
   "outputs": [
    {
     "name": "stdout",
     "output_type": "stream",
     "text": [
      " This Program Displays Data of Cars using OOP Approach\n",
      " Classes are used to gather and display Cars Data \n",
      "\n",
      "\n",
      "\t Gathering Data for Vehicle # 1\n"
     ]
    },
    {
     "name": "stdin",
     "output_type": "stream",
     "text": [
      "Please Enter Car Manufacturer Company:  Honda\n",
      "Please Enter Car Model:  2011\n",
      "Please Enter Car Color:  Black\n",
      "Please Enter Car Number:  RWP-1234\n",
      "Please Enter Car Owner Name:  M Ibrar\n"
     ]
    },
    {
     "name": "stdout",
     "output_type": "stream",
     "text": [
      "\t Gathering Data for Vehicle # 2\n"
     ]
    },
    {
     "name": "stdin",
     "output_type": "stream",
     "text": [
      "Please Enter Car Manufacturer Company:  Honda\n",
      "Please Enter Car Model:  2012\n",
      "Please Enter Car Color:  White\n",
      "Please Enter Car Number:  RWP-5678\n",
      "Please Enter Car Owner Name:  Farhan Shakil\n"
     ]
    },
    {
     "name": "stdout",
     "output_type": "stream",
     "text": [
      "\t Gathering Data for Vehicle # 3\n"
     ]
    },
    {
     "name": "stdin",
     "output_type": "stream",
     "text": [
      "Please Enter Car Manufacturer Company:  Suzuki\n",
      "Please Enter Car Model:  2013\n",
      "Please Enter Car Color:  Blue\n",
      "Please Enter Car Number:  RWP-9012\n",
      "Please Enter Car Owner Name:  Riffat Abbas\n"
     ]
    },
    {
     "name": "stdout",
     "output_type": "stream",
     "text": [
      "\t Gathering Data for Vehicle # 4\n"
     ]
    },
    {
     "name": "stdin",
     "output_type": "stream",
     "text": [
      "Please Enter Car Manufacturer Company:  Suzuki\n",
      "Please Enter Car Model:  2014\n",
      "Please Enter Car Color:  Maroon\n",
      "Please Enter Car Number:  RWP4321\n",
      "Please Enter Car Owner Name:  Usman Niazi\n"
     ]
    },
    {
     "name": "stdout",
     "output_type": "stream",
     "text": [
      "\t Gathering Data for Vehicle # 5\n"
     ]
    },
    {
     "name": "stdin",
     "output_type": "stream",
     "text": [
      "Please Enter Car Manufacturer Company:  Suzuki\n",
      "Please Enter Car Model:  2015\n",
      "Please Enter Car Color:  Green\n",
      "Please Enter Car Number:  RWP-8765\n",
      "Please Enter Car Owner Name:  Salman Mughal\n"
     ]
    },
    {
     "name": "stdout",
     "output_type": "stream",
     "text": [
      "\n",
      "\n",
      "   Below are the details of Vehicle\n",
      "\tCar Manufacturer =  Honda\n",
      "\tCar Model        =  2011\n",
      "\tCar Color        =  Black\n",
      "\tCar Number       =  RWP-1234\n",
      "\tCar Owner        =  M Ibrar\n",
      "\n",
      "\n",
      "   Below are the details of Vehicle\n",
      "\tCar Manufacturer =  Honda\n",
      "\tCar Model        =  2012\n",
      "\tCar Color        =  White\n",
      "\tCar Number       =  RWP-5678\n",
      "\tCar Owner        =  Farhan Shakil\n",
      "\n",
      "\n",
      "   Below are the details of Vehicle\n",
      "\tCar Manufacturer =  Suzuki\n",
      "\tCar Model        =  2013\n",
      "\tCar Color        =  Blue\n",
      "\tCar Number       =  RWP-9012\n",
      "\tCar Owner        =  Riffat Abbas\n",
      "\n",
      "\n",
      "   Below are the details of Vehicle\n",
      "\tCar Manufacturer =  Suzuki\n",
      "\tCar Model        =  2014\n",
      "\tCar Color        =  Maroon\n",
      "\tCar Number       =  RWP4321\n",
      "\tCar Owner        =  Usman Niazi\n",
      "\n",
      "\n",
      "   Below are the details of Vehicle\n",
      "\tCar Manufacturer =  Suzuki\n",
      "\tCar Model        =  2015\n",
      "\tCar Color        =  Green\n",
      "\tCar Number       =  RWP-8765\n",
      "\tCar Owner        =  Salman Mughal\n"
     ]
    }
   ],
   "source": [
    "#Author: Farhan Shakil\n",
    "#Course: Python Programming Language\n",
    "#Roll # PY01052\n",
    "#Email: mfarhanshakil@gmail.com\n",
    "#Assignment # 6\n",
    "#Question # 5\n",
    "\n",
    "# Write a code in python in which create a class named it Car which\n",
    "# have 5 attributes such like (model, color and name etc.) and 3 \n",
    "# methods. And create 5 object instance from that class.\n",
    "\n",
    "class Car_Data():\n",
    "    def __init__(my_car):\n",
    "        my_car.manufacturer = \"XYZ\"\n",
    "        my_car.model = \"XYZ\"\n",
    "        my_car.color = \"XYZ\"\n",
    "        my_car.number = \"XYZ\"\n",
    "        my_car.owner = \"XYZ\"\n",
    "        \n",
    "    def mod_manu_color(my_car):\n",
    "        my_car.manufacturer = input(\"Please Enter Car Manufacturer Company: \")\n",
    "        my_car.model = input(\"Please Enter Car Model: \")\n",
    "        my_car.color = input(\"Please Enter Car Color: \")\n",
    "        return\n",
    "    \n",
    "    def numb_own(my_car):\n",
    "        my_car.number = input(\"Please Enter Car Number: \")\n",
    "        my_car.owner = input(\"Please Enter Car Owner Name: \")\n",
    "        return\n",
    "    \n",
    "    def car_data_display(my_car):\n",
    "        print(\"\\n\\n   Below are the details of Vehicle\")\n",
    "        print(\"\\tCar Manufacturer = \" , my_car.manufacturer)\n",
    "        print(\"\\tCar Model        = \" , my_car.model)\n",
    "        print(\"\\tCar Color        = \" , my_car.color)\n",
    "        print(\"\\tCar Number       = \" , my_car.number)\n",
    "        print(\"\\tCar Owner        = \" , my_car.owner)\n",
    "        return\n",
    "\n",
    "\n",
    "print(\" This Program Displays Data of Cars using OOP Approach\")\n",
    "print(\" Classes are used to gather and display Cars Data \\n\\n\")\n",
    "\n",
    "carno1 = Car_Data()\n",
    "\n",
    "\"\"\"\"carno2 = Car_Data()\n",
    "carno3 = Car_Data()\n",
    "carno4 = Car_Data()\n",
    "carno5 = Car_Data()\"\"\"\n",
    "\n",
    "vehicle_data = []\n",
    "\n",
    "for lp_var in range(5):\n",
    "    vehicle_data.append(Car_Data())\n",
    "    print(\"\\t Gathering Data for Vehicle #\" , lp_var + 1)\n",
    "    vehicle_data[lp_var].mod_manu_color()\n",
    "    vehicle_data[lp_var].numb_own()\n",
    "\n",
    "for lp_var in range(5):\n",
    "    vehicle_data[lp_var].car_data_display()\n",
    "\n"
   ]
  }
 ],
 "metadata": {
  "kernelspec": {
   "display_name": "Python 3",
   "language": "python",
   "name": "python3"
  },
  "language_info": {
   "codemirror_mode": {
    "name": "ipython",
    "version": 3
   },
   "file_extension": ".py",
   "mimetype": "text/x-python",
   "name": "python",
   "nbconvert_exporter": "python",
   "pygments_lexer": "ipython3",
   "version": "3.7.3"
  }
 },
 "nbformat": 4,
 "nbformat_minor": 4
}
